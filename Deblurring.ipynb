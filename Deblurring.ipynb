{
  "cells": [
    {
      "cell_type": "markdown",
      "metadata": {
        "id": "kx1nkrHYNs80"
      },
      "source": [
        "Set blur kernel and some util"
      ]
    },
    {
      "cell_type": "code",
      "execution_count": null,
      "metadata": {
        "id": "EjQIu53nLIz5"
      },
      "outputs": [],
      "source": [
        "#util: https://github.com/GaryMataev/DeepRED\n",
        "def fspecial_gauss(size, sigma):\n",
        "    \"\"\"Function to mimic the 'fspecial' gaussian MATLAB function\n",
        "    \"\"\"\n",
        "    x, y = np.mgrid[-size // 2 + 1:size // 2 + 1, -size // 2 + 1:size // 2 + 1]\n",
        "    g = np.exp(-((x ** 2 + y ** 2) / (2.0 * sigma ** 2)))\n",
        "    return g / g.sum()\n",
        "\n",
        "def get_fft_h(im, blur_type):\n",
        "    assert blur_type in ['uniform_blur', 'gauss_blur'], \"blur_type can be or 'uniform' or 'gauss'\"\n",
        "    ch, h, w = im.shape\n",
        "    fft_h    =  np.zeros((h,w),)\n",
        "    if blur_type=='uniform_blur':\n",
        "        t        =  4 # 9//2\n",
        "        fft_h[h//2-t:h//2+1+t, w//2-t:w//2+1+t]  = 1/81\n",
        "        fft_h    = np.fft.fft2(np.fft.fftshift(fft_h))\n",
        "    else: # gauss_blur\n",
        "        psf = fspecial_gauss(25, 1.6)\n",
        "        t = 12 # 25 // 2\n",
        "        fft_h[h//2-t:h//2+1+t, w//2-t:w//2+1+t]  = psf\n",
        "        fft_h    =  np.fft.fft2(np.fft.fftshift(fft_h))\n",
        "    return fft_h\n",
        "\n",
        "\n",
        "def blur(im, blur_type):\n",
        "    fft_h = get_fft_h(im, blur_type)\n",
        "    imout = np.zeros_like(im)\n",
        "    for i in range(im.shape[0]):\n",
        "        im_f    =  np.fft.fft2(im[i, :, :])\n",
        "        z_f     =  fft_h*im_f # .* of matlab\n",
        "        z       =  np.real(np.fft.ifft2(z_f))\n",
        "        imout[i, :, :] = z\n",
        "    return imout\n",
        "\n",
        "\n",
        "# - the inverse function H - \n",
        "def get_h(n_ch, blur_type, use_fourier, dtype):\n",
        "    assert blur_type in ['uniform_blur', 'gauss_blur'], \"blur_type can be or 'uniform' or 'gauss'\"\n",
        "    if not use_fourier:\n",
        "        return Downsampler(n_ch, 1, blur_type, preserve_size=True).type(dtype)\n",
        "    return lambda im: torch_blur(im, blur_type, dtype)\n",
        "\n",
        "\n",
        "def torch_blur(im, blur_type, dtype):\n",
        "    fft_h = get_fft_h(torch_to_np(im), blur_type)\n",
        "    fft_h_torch = torch.unsqueeze(torch.from_numpy(np.real(fft_h)).type(dtype), 2)\n",
        "    fft_h_torch = torch.cat([fft_h_torch, fft_h_torch], 2)\n",
        "    z = []\n",
        "    for i in range(im.shape[1]):\n",
        "        im_torch = torch.unsqueeze(im[0, i, :, :], 2)\n",
        "        im_torch = torch.cat([im_torch, im_torch], 2)\n",
        "        im_f    =  torch.fft(im_torch, 2)\n",
        "        z_f     =  torch.mul(torch.unsqueeze(fft_h_torch, 0), torch.unsqueeze(im_f, 0)) # .* of matlab\n",
        "        z.append(torch.ifft(z_f, 2))\n",
        "    z = torch.cat(z, 0)\n",
        "    return torch.unsqueeze(z[:, :, :, 0], 0)"
      ]
    },
    {
      "cell_type": "code",
      "execution_count": null,
      "metadata": {
        "id": "ZJ7rXUSFD_jv"
      },
      "outputs": [],
      "source": [
        "import numpy as np\n",
        "import torch\n",
        "import torch.nn as nn\n",
        "\n",
        "\n",
        "class Downsampler(nn.Module):\n",
        "    \"\"\"\n",
        "        http://www.realitypixels.com/turk/computergraphics/ResamplingFilters.pdf\n",
        "    \"\"\"\n",
        "\n",
        "    def __init__(self, n_planes, factor, kernel_type, phase=0, kernel_width=None, support=None, sigma=None,\n",
        "                 preserve_size=False, pad_type='reflection', transpose_conv=False):\n",
        "        super(Downsampler, self).__init__()\n",
        "\n",
        "        assert phase in [0, 0.5], 'phase should be 0 or 0.5'\n",
        "        \n",
        "        if kernel_type == 'lanczos2':\n",
        "            support = 2\n",
        "            kernel_width = 4 * factor + 1\n",
        "            kernel_type_ = 'lanczos'\n",
        "\n",
        "        elif kernel_type == 'lanczos3':\n",
        "            support = 3\n",
        "            kernel_width = 6 * factor + 1\n",
        "            kernel_type_ = 'lanczos'\n",
        "\n",
        "        elif kernel_type == 'gauss12':\n",
        "            kernel_width = 7\n",
        "            sigma = 1 / 2\n",
        "            kernel_type_ = 'gauss'\n",
        "\n",
        "        elif kernel_type == 'gauss1sq2':\n",
        "            kernel_width = 9\n",
        "            sigma = 1. / np.sqrt(2)\n",
        "            kernel_type_ = 'gauss'\n",
        "            \n",
        "        elif kernel_type == 'uniform_blur':\n",
        "            kernel_width = 9\n",
        "            kernel_type_ = 'uniform'\n",
        "            pad_type = 'circular'\n",
        "            \n",
        "        elif kernel_type == 'gauss_blur':\n",
        "            kernel_width = 25\n",
        "            sigma = 1.6\n",
        "            kernel_type_ = 'gauss'\n",
        "            pad_type = 'circular'\n",
        "            \n",
        "        elif kernel_type in {'lanczos', 'gauss', 'box'}:\n",
        "            kernel_type_ = kernel_type\n",
        "            \n",
        "        else:\n",
        "            assert False, 'wrong name kernel'\n",
        "\n",
        "        # note that `kernel width` will be different to actual size for phase = 1/2\n",
        "        self.kernel = get_kernel(factor, kernel_type_, phase, kernel_width, support=support, sigma=sigma)\n",
        "        if transpose_conv:\n",
        "            if self.kernel.shape[0] % 2 == 1:\n",
        "                pad = int((self.kernel.shape[0] - 1) // 2.)\n",
        "            else:\n",
        "                pad = int((self.kernel.shape[0] - factor) // 2.)\n",
        "            downsampler = nn.ConvTranspose2d(n_planes, n_planes, kernel_size=self.kernel.shape,\n",
        "                                             stride=factor, padding=pad)\n",
        "        else:\n",
        "            downsampler = nn.Conv2d(n_planes, n_planes, kernel_size=self.kernel.shape, stride=factor, padding=0)\n",
        "        downsampler.weight.data[:] = 0\n",
        "        downsampler.bias.data[:] = 0\n",
        "\n",
        "        kernel_torch = torch.from_numpy(self.kernel)\n",
        "        for i in range(n_planes):\n",
        "            downsampler.weight.data[i, i] = kernel_torch\n",
        "\n",
        "        self.downsampler_ = downsampler\n",
        "    \n",
        "        if preserve_size:\n",
        "            if pad_type=='circular':\n",
        "                self.padding = lambda torch_in: pad_circular(torch_in, kernel_width // 2)\n",
        "            elif pad_type=='reflection':\n",
        "                if self.kernel.shape[0] % 2 == 1:\n",
        "                    pad = int((self.kernel.shape[0] - 1) // 2.)\n",
        "                else:\n",
        "                    pad = int((self.kernel.shape[0] - factor) // 2.)\n",
        "                self.padding = nn.ReplicationPad2d(pad)\n",
        "            else:\n",
        "                assert False, \"pad_type have only circular or reflection options\"\n",
        "        self.preserve_size = preserve_size\n",
        "\n",
        "    def forward(self, input):\n",
        "        if self.preserve_size:\n",
        "            x = self.padding(input)\n",
        "        else:\n",
        "            x = input\n",
        "        self.x = x\n",
        "        return self.downsampler_(x)\n",
        "\n",
        "\n",
        "def get_kernel(factor, kernel_type, phase, kernel_width, support=None, sigma=None):\n",
        "    assert kernel_type in ['lanczos', 'gauss', 'box', 'uniform', 'blur']\n",
        "\n",
        "    # factor  = float(factor)\n",
        "    if phase == 0.5 and kernel_type != 'box':\n",
        "        kernel = np.zeros([kernel_width - 1, kernel_width - 1])\n",
        "    else:\n",
        "        kernel = np.zeros([kernel_width, kernel_width])\n",
        "\n",
        "    if kernel_type == 'box':\n",
        "        assert phase == 0.5, 'Box filter is always half-phased'\n",
        "        kernel[:] = 1. / (kernel_width * kernel_width)\n",
        "\n",
        "    elif kernel_type == 'gauss':\n",
        "        assert sigma, 'sigma is not specified'\n",
        "        assert phase != 0.5, 'phase 1/2 for gauss not implemented'\n",
        "        return fspecial_gauss(kernel_width, sigma)\n",
        "    \n",
        "    elif kernel_type == 'uniform':\n",
        "        kernel = np.ones([kernel_width, kernel_width])\n",
        "    \n",
        "    elif kernel_type == 'lanczos':\n",
        "        assert support, 'support is not specified'\n",
        "        center = (kernel_width + 1) / 2.\n",
        "\n",
        "        for i in range(1, kernel.shape[0] + 1):\n",
        "            for j in range(1, kernel.shape[1] + 1):\n",
        "\n",
        "                if phase == 0.5:\n",
        "                    di = abs(i + 0.5 - center) / factor\n",
        "                    dj = abs(j + 0.5 - center) / factor\n",
        "                else:\n",
        "                    di = abs(i - center) / factor\n",
        "                    dj = abs(j - center) / factor\n",
        "\n",
        "                pi_sq = np.pi * np.pi\n",
        "\n",
        "                val = 1\n",
        "                if di != 0:\n",
        "                    val = val * support * np.sin(np.pi * di) * np.sin(np.pi * di / support)\n",
        "                    val = val / (np.pi * np.pi * di * di)\n",
        "\n",
        "                if dj != 0:\n",
        "                    val = val * support * np.sin(np.pi * dj) * np.sin(np.pi * dj / support)\n",
        "                    val = val / (np.pi * np.pi * dj * dj)\n",
        "                kernel[i - 1][j - 1] = val\n",
        "    else:\n",
        "        assert False, 'wrong method name'\n",
        "    kernel /= kernel.sum()\n",
        "    return kernel\n",
        "\n",
        "\n",
        "def pad_circular(x, pad):\n",
        "    \"\"\"\n",
        "    :param x: pytorch tensor of shape: [batch, ch, h, w]\n",
        "    :param pad: uint\n",
        "    :return:\n",
        "    \"\"\"\n",
        "    x = torch.cat([x, x[:, :, 0:pad]], dim=2)\n",
        "    x = torch.cat([x, x[:, :, :, 0:pad]], dim=3)\n",
        "    x = torch.cat([x[:, :, -2*pad:-pad], x], dim=2)\n",
        "    x = torch.cat([x[:, :, :, -2*pad:-pad], x], dim=3)\n",
        "    return x"
      ]
    },
    {
      "cell_type": "markdown",
      "metadata": {
        "id": "yZG1S8uQN4_Y"
      },
      "source": [
        "Initialize blur kernel"
      ]
    },
    {
      "cell_type": "code",
      "execution_count": null,
      "metadata": {
        "id": "0FtsTLG1EjRs"
      },
      "outputs": [],
      "source": [
        "dtype = torch.cuda.FloatTensor\n",
        "blur_type=\"gauss_blur\"\n",
        "downsampler=Downsampler(3, 1, blur_type, preserve_size=True).type(dtype)"
      ]
    },
    {
      "cell_type": "markdown",
      "source": [
        "Set path"
      ],
      "metadata": {
        "id": "oYSbJJabslvi"
      }
    },
    {
      "cell_type": "code",
      "source": [
        "fname=\"/content/drive/MyDrive/DeepRED/blur image/Parrots.tif\" #gt image path"
      ],
      "metadata": {
        "id": "IayHVpI5sk9V"
      },
      "execution_count": null,
      "outputs": []
    },
    {
      "cell_type": "markdown",
      "metadata": {
        "id": "d3d-6v9lN-Yc"
      },
      "source": [
        "SIREN model"
      ]
    },
    {
      "cell_type": "code",
      "execution_count": null,
      "metadata": {
        "id": "sTiU9FPAF_Ae"
      },
      "outputs": [],
      "source": [
        "import torch\n",
        "from torch import nn\n",
        "import torch.nn.functional as F\n",
        "from torch.utils.data import DataLoader, Dataset\n",
        "import os\n",
        "\n",
        "from PIL import Image\n",
        "from torchvision.transforms import Resize, Compose, ToTensor, Normalize\n",
        "import numpy as np\n",
        "import skimage\n",
        "import matplotlib.pyplot as plt\n",
        "import datetime  \n",
        "import time\n",
        "global ngt\n",
        "\n",
        "\n",
        "def get_origin_mgrid(sidelen1,sidelen2, dim=2):\n",
        "    '''Generates a flattened grid of (x,y,...) coordinates in a range of -1 to 1.\n",
        "    sidelen: int\n",
        "    dim: int'''\n",
        "    if sidelen1 >=sidelen2:\n",
        "      tensors = tuple(dim * [torch.linspace(-1, 1, steps=sidelen1)])\n",
        "      mgrid = torch.stack(torch.meshgrid(*tensors), dim=-1)\n",
        "    \n",
        "      minor=int((sidelen1-sidelen2)/2)\n",
        "      mgrid=mgrid[:,minor:sidelen2+minor]\n",
        "    if sidelen1 <sidelen2:\n",
        "      tensors = tuple(dim * [torch.linspace(-1, 1, steps=sidelen2)])\n",
        "      mgrid = torch.stack(torch.meshgrid(*tensors), dim=-1)\n",
        "      \n",
        "      minor=int((sidelen2-sidelen1)/2)\n",
        "      mgrid=mgrid[minor:sidelen1+minor,:]\n",
        "    mgrid = mgrid.reshape(-1, dim)\n",
        "   \n",
        "    return mgrid\n"
      ]
    },
    {
      "cell_type": "code",
      "execution_count": null,
      "metadata": {
        "id": "p-Vo-vXRGDYp"
      },
      "outputs": [],
      "source": [
        "class SineLayer(nn.Module):\n",
        "    #SIREN model  https://github.com/vsitzmann/siren\n",
        "    \n",
        "    def __init__(self, in_features, out_features, bias=True,\n",
        "                 is_first=False, omega_0=30):\n",
        "        super().__init__()\n",
        "        self.omega_0 = omega_0\n",
        "        self.is_first = is_first\n",
        "        \n",
        "        self.in_features = in_features\n",
        "        self.linear = nn.Linear(in_features, out_features, bias=bias)\n",
        "        \n",
        "        self.init_weights()\n",
        "    \n",
        "    def init_weights(self):\n",
        "        with torch.no_grad():\n",
        "            if self.is_first:\n",
        "                self.linear.weight.uniform_(-1 / self.in_features, \n",
        "                                             1 / self.in_features)      \n",
        "            else:\n",
        "                self.linear.weight.uniform_(-np.sqrt(6 / self.in_features) / self.omega_0, \n",
        "                                             np.sqrt(6 / self.in_features) / self.omega_0)\n",
        "        \n",
        "    def forward(self, input):\n",
        "        return torch.sin(self.omega_0 * self.linear(input))\n",
        "    \n",
        "    def forward_with_intermediate(self, input): \n",
        "        # For visualization of activation distributions\n",
        "        intermediate = self.omega_0 * self.linear(input)\n",
        "        return torch.sin(intermediate), intermediate\n",
        "    \n",
        "    \n",
        "class Siren(nn.Module):\n",
        "    def __init__(self, in_features, hidden_features, hidden_layers, out_features, outermost_linear=False, \n",
        "                 first_omega_0=30, hidden_omega_0=30.):\n",
        "        super().__init__()\n",
        "        \n",
        "        self.net = []\n",
        "        self.net.append(SineLayer(in_features, hidden_features, \n",
        "                                  is_first=True, omega_0=first_omega_0))\n",
        "\n",
        "        for i in range(hidden_layers):\n",
        "            self.net.append(SineLayer(hidden_features, hidden_features, \n",
        "                                      is_first=False, omega_0=hidden_omega_0))\n",
        "\n",
        "        if outermost_linear:\n",
        "            final_linear = nn.Linear(hidden_features, out_features)\n",
        "            \n",
        "            with torch.no_grad():\n",
        "                final_linear.weight.uniform_(-np.sqrt(6 / hidden_features) / hidden_omega_0, \n",
        "                                              np.sqrt(6 / hidden_features) / hidden_omega_0)\n",
        "                \n",
        "            self.net.append(final_linear)\n",
        "        else:\n",
        "            self.net.append(SineLayer(hidden_features, out_features, \n",
        "                                      is_first=False, omega_0=hidden_omega_0))\n",
        "        \n",
        "        self.net = nn.Sequential(*self.net)\n",
        "    \n",
        "    def forward(self, coords):\n",
        "        coords = coords.clone().detach().requires_grad_(True) # allows to take derivative w.r.t. input\n",
        "        output = self.net(coords)\n",
        "        return output, coords        \n",
        "\n",
        "   "
      ]
    },
    {
      "cell_type": "code",
      "execution_count": null,
      "metadata": {
        "id": "9_BmJjxWGVwF"
      },
      "outputs": [],
      "source": [
        "def add_gaussian_noise(img, sigma):\n",
        "    # add noise on blur image\n",
        "    if sigma > 0:\n",
        "        noise = np.random.normal(scale=sigma , size=img.shape).astype(np.float32)\n",
        "        \n",
        "        noisy_img = (img + noise).astype(np.float32)\n",
        "    else:\n",
        "        noisy_img = img.astype(np.float32)\n",
        "    #noisy_img=np.clip(noisy_img, 0.0, 1.0)\n",
        "    return noisy_img"
      ]
    },
    {
      "cell_type": "markdown",
      "metadata": {
        "id": "IGgo1XgbOHKb"
      },
      "source": [
        "Get the blur input image"
      ]
    },
    {
      "cell_type": "code",
      "execution_count": null,
      "metadata": {
        "id": "HTfTHVQTGFUK"
      },
      "outputs": [],
      "source": [
        "def get_image(imgpath):\n",
        "    #get blur image\n",
        "    global gtimage\n",
        "    img = np.array( Image.open(imgpath)).astype(np.float32)/255\n",
        "    img=img.transpose(2, 0, 1)\n",
        "    imgold=img\n",
        "    gtimage=img\n",
        "    \n",
        "  \n",
        "    #blur\n",
        "    img= blur(img,blur_type=\"gauss_blur\")\n",
        "    sigma=2**.5\n",
        "    PSNR = compare_PSNR(img,imgold,True,False )\n",
        "    print(\"psnr(clear-blur) = \", PSNR)\n",
        "    #add noise\n",
        "    img= add_gaussian_noise(img, sigma/255)\n",
        "    img= np.clip(img,0,1)\n",
        "    PSNR = compare_PSNR(img,imgold,True,False )\n",
        "    print(\"psnr(clear-blurnoised) = \", PSNR)\n",
        "    img=(img-0.5)*2\n",
        "    ncgt=img\n",
        "    \n",
        "   \n",
        "    \n",
        "  \n",
        "    plt.imshow(np.squeeze((img.transpose(1,2,0)+1)/2))    \n",
        "    plt.pause(0.1)\n",
        "   \n",
        "    blur_tensor = torch.tensor(img)\n",
        "    return blur_tensor"
      ]
    },
    {
      "cell_type": "code",
      "execution_count": null,
      "metadata": {
        "id": "H4PxfpUeGY2V"
      },
      "outputs": [],
      "source": [
        "#Dataset\n",
        "class ImageFitting(Dataset):\n",
        "    def __init__(self,imgpath):\n",
        "        super().__init__()\n",
        "        img = get_image(imgpath)\n",
        "        \n",
        "        print(img.shape)\n",
        "       \n",
        "        self.pixels = img.permute(1, 2, 0).view(-1, 3)\n",
        "        \n",
        "        self.coords = get_origin_mgrid(img.shape[1],img.shape[2],dim=2)\n",
        "    def __len__(self):\n",
        "        return 1\n",
        "\n",
        "    def __getitem__(self, idx):    \n",
        "        if idx > 0: raise IndexError\n",
        "          \n",
        "        return self.coords, self.pixels"
      ]
    },
    {
      "cell_type": "markdown",
      "metadata": {
        "id": "wdHTDrEmOPnv"
      },
      "source": [
        "PSNR_Y (Same as DeepRED)"
      ]
    },
    {
      "cell_type": "code",
      "execution_count": null,
      "metadata": {
        "id": "UmByN8gzON7e"
      },
      "outputs": [],
      "source": [
        "\"\"\"\n",
        "PSNR_Y for deblurring\n",
        "\"\"\"\n",
        "from skimage.metrics import peak_signal_noise_ratio as compare_psnr\n",
        "def compare_PSNR(org, est, on_y=False, gray_scale=False):\n",
        "    assert (on_y==False or gray_scale==False), \"Is your image RGB or gray? please choose and try again\"\n",
        "    if on_y:\n",
        "        return compare_psnr_y(np_to_pil(org), np_to_pil(est))\n",
        "    if gray_scale:\n",
        "        return compare_psnr(np.mean(org, axis=0), np.mean(est, axis=0))\n",
        "    return compare_psnr(org, est)\n",
        "def np_to_pil(img_np):\n",
        "    \"\"\"Converts image in np.array format to PIL image.\n",
        "    From C x W x H [0..1] to  W x H x C [0...255]\n",
        "    \"\"\"\n",
        "    ar = np.clip(np.rint(img_np * 255), 0, 255).astype(np.uint8)\n",
        "\n",
        "    if img_np.shape[0] == 1:\n",
        "        ar = ar[0]\n",
        "    else:\n",
        "        ar = ar.transpose(1, 2, 0)\n",
        "\n",
        "    return Image.fromarray(ar)\n",
        "def compare_psnr_y(org_pil, est_pil):\n",
        "    return compare_psnr(rgb2ycbcr(org_pil), rgb2ycbcr(est_pil))"
      ]
    },
    {
      "cell_type": "code",
      "execution_count": null,
      "metadata": {
        "id": "Z_j2dScDOdJB"
      },
      "outputs": [],
      "source": [
        "def rgb2ycbcr(img):\n",
        "    \"\"\"\n",
        "    Image to Y (ycbcr)\n",
        "    Input:\n",
        "        PIL IMAGE, in range [0, 255]\n",
        "    Output:\n",
        "        Numpy Y Ch. in range [0, 1]\n",
        "    \"\"\"\n",
        "    y = np.array(img, np.float32)\n",
        "    if len(y.shape) == 3 and y.shape[2] == 3:\n",
        "        y = np.dot(y, [65.481, 128.553, 24.966]) / 255.0 + 16.0\n",
        "    return y.round() / 255.0"
      ]
    },
    {
      "cell_type": "markdown",
      "metadata": {
        "id": "z_yfKv6zOWco"
      },
      "source": [
        "Initialize"
      ]
    },
    {
      "cell_type": "code",
      "execution_count": null,
      "metadata": {
        "colab": {
          "base_uri": "https://localhost:8080/",
          "height": 792
        },
        "id": "HMn70OpFG8YD",
        "outputId": "91fc66ee-8a53-44e2-9fdc-fb24c64ca4c2"
      },
      "outputs": [
        {
          "output_type": "stream",
          "name": "stdout",
          "text": [
            "psnr(clear-blur) =  26.980545188306447\n",
            "psnr(clear-blurnoised) =  26.95703403244731\n"
          ]
        },
        {
          "output_type": "display_data",
          "data": {
            "text/plain": [
              "<Figure size 432x288 with 1 Axes>"
            ],
            "image/png": "[encoded data removed]"
          },
          "metadata": {
            "needs_background": "light"
          }
        },
        {
          "output_type": "stream",
          "name": "stdout",
          "text": [
            "torch.Size([3, 256, 256])\n"
          ]
        },
        {
          "output_type": "execute_result",
          "data": {
            "text/plain": [
              "Siren(\n",
              "  (net): Sequential(\n",
              "    (0): SineLayer(\n",
              "      (linear): Linear(in_features=2, out_features=256, bias=True)\n",
              "    )\n",
              "    (1): SineLayer(\n",
              "      (linear): Linear(in_features=256, out_features=256, bias=True)\n",
              "    )\n",
              "    (2): SineLayer(\n",
              "      (linear): Linear(in_features=256, out_features=256, bias=True)\n",
              "    )\n",
              "    (3): SineLayer(\n",
              "      (linear): Linear(in_features=256, out_features=256, bias=True)\n",
              "    )\n",
              "    (4): SineLayer(\n",
              "      (linear): Linear(in_features=256, out_features=256, bias=True)\n",
              "    )\n",
              "    (5): SineLayer(\n",
              "      (linear): Linear(in_features=256, out_features=256, bias=True)\n",
              "    )\n",
              "    (6): SineLayer(\n",
              "      (linear): Linear(in_features=256, out_features=256, bias=True)\n",
              "    )\n",
              "    (7): Linear(in_features=256, out_features=3, bias=True)\n",
              "  )\n",
              ")"
            ]
          },
          "metadata": {},
          "execution_count": 32
        }
      ],
      "source": [
        "import cv2 as cv\n",
        "\n",
        "cameraman = ImageFitting(fname)\n",
        "sidelength1=gtimage.shape[1]\n",
        "sidelength2=gtimage.shape[2]\n",
        "\n",
        "dataloader = DataLoader(cameraman, batch_size=1, pin_memory=True, num_workers=0)\n",
        "\n",
        "img_siren = Siren(in_features=2, out_features=3, hidden_features=256, \n",
        "                  hidden_layers=6, outermost_linear=True)\n",
        "img_siren.cuda()"
      ]
    },
    {
      "cell_type": "markdown",
      "metadata": {
        "id": "JzChWjceObbU"
      },
      "source": [
        "Train"
      ]
    },
    {
      "cell_type": "code",
      "execution_count": null,
      "metadata": {
        "colab": {
          "base_uri": "https://localhost:8080/"
        },
        "id": "yd9ZOmTOHneg",
        "outputId": "10c82333-9636-4b95-edf3-5f96b29b3667"
      },
      "outputs": [
        {
          "output_type": "stream",
          "name": "stdout",
          "text": [
            "Step 0, Total loss 0.264139\n",
            "ssim =  0.57966334\n",
            "psnr =  14.057827137662354\n",
            "time =  0.03540968894958496\n"
          ]
        },
        {
          "output_type": "stream",
          "name": "stderr",
          "text": [
            "<ipython-input-33-975f50c97c1c>:36: FutureWarning: `multichannel` is a deprecated argument name for `structural_similarity`. It will be removed in version 1.0. Please use `channel_axis` instead.\n",
            "  SSIM = ssim(gt,outimage , multichannel=True)\n"
          ]
        },
        {
          "output_type": "stream",
          "name": "stdout",
          "text": [
            "Step 4000, Total loss 0.000108\n",
            "ssim =  0.9630814\n",
            "psnr =  32.91380798742925\n",
            "time =  70.55534672737122\n"
          ]
        }
      ],
      "source": [
        "#total steps\n",
        "total_steps = 4000\n",
        "#test steps\n",
        "steps_til_summary = 4000\n",
        "\n",
        "#best_psnr=0\n",
        "\n",
        "\n",
        "i=0\n",
        "optim = torch.optim.Adam(lr=1e-4, params=img_siren.parameters())\n",
        "start_time = time.time()\n",
        "model_input, ground_truth = next(iter(dataloader))\n",
        "model_input, ground_truth = model_input.cuda(), ground_truth.cuda()\n",
        "for step in range(total_steps+1):\n",
        "    model_output, coords = img_siren(model_input)    \n",
        "    model_outputnew=(downsampler(model_output.view(1,sidelength1,sidelength2,3).permute(0,3,1,2))).permute(0,2,3,1).view(1,-1,3) \n",
        "    loss = ((model_outputnew - ground_truth)**2).mean()\n",
        "    \n",
        "    if not step % steps_til_summary:\n",
        "        print(\"Step %d, Total loss %0.6f\" % (step, loss))\n",
        "        \n",
        "        \n",
        "        outimage=model_output.cpu().view(sidelength1,sidelength2,3).detach().numpy()\n",
        "        gt=(np.array( Image.open(fname).resize([sidelength2,sidelength1])).astype(np.float32)/255)\n",
        "              \n",
        "        outimage=(outimage+1)/2      \n",
        "        \n",
        "        #print metrics\n",
        "        SSIM = ssim(gt,outimage , multichannel=True)\n",
        "        print(\"ssim = \", SSIM)\n",
        "        PSNR = compare_PSNR(gt.transpose(2,0,1),outimage.transpose(2,0,1),True,False )\n",
        "        print(\"psnr = \", PSNR)\n",
        "        # Records best result\n",
        "        # if PSNR>best_psnr:\n",
        "        #   best_psnr=PSNR\n",
        "        # print(\"best\",best_psnr)\n",
        "        end_time = time.time()\n",
        "        print(\"time = \",(end_time - start_time))\n",
        "       \n",
        "        i=i+1\n",
        "    \n",
        "    optim.zero_grad()\n",
        "    loss.backward()\n",
        "    optim.step()\n",
        "\n"
      ]
    }
  ],
  "metadata": {
    "accelerator": "GPU",
    "colab": {
      "provenance": []
    },
    "gpuClass": "premium",
    "kernelspec": {
      "display_name": "Python 3",
      "name": "python3"
    },
    "language_info": {
      "name": "python"
    }
  },
  "nbformat": 4,
  "nbformat_minor": 0
}